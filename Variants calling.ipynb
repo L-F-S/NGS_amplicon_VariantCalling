{
 "cells": [
  {
   "cell_type": "code",
   "execution_count": 62,
   "metadata": {},
   "outputs": [
    {
     "name": "stdout",
     "output_type": "stream",
     "text": [
      "Index(['chr', 'pos', 'ref', 'A', 'C', 'G', 'T', 'af', 'cov'], dtype='object')\n"
     ]
    }
   ],
   "source": [
    "#!/usr/bin/env python3\n",
    "# -*- coding: utf-8 -*-\n",
    "\"\"\"\n",
    "Created on Mon Nov 18 14:40:49 2019\n",
    "\n",
    "@author: L-F-S\n",
    "@ University of Trento, Italy\n",
    "\"\"\"\n",
    "\n",
    "import os\n",
    "import sys\n",
    "import numpy as np\n",
    "import pandas as pd\n",
    "import matplotlib.pyplot as plt\n",
    "\n",
    "wdir=\"/home/lorenzo/cereseto lab/Aiello_EvolvR_Jan2020/\"\n",
    "n='1'#str(input(\"Quale sample vuoi osservare? [0, 1, 2, 3, A]\"))\n",
    "is_deduped=True\n",
    "if not is_deduped:\n",
    "    dataname=\"/home/lorenzo/Cas_mining/mapping/vcf_pacbam_out/SS\"+n+\"_CJ_variant.sorted.pileup\"\n",
    "    samplename=\"S\"+n\n",
    "else:\n",
    "    dataname=\"/home/lorenzo/Cas_mining/mapping/vcf_pacbam_out/deduped/SS\"+n+\"_CJ_variant.sorted.pileup\"\n",
    "    samplename=\"S\"+n+\"_dedup\"\n",
    "samplename=\"L-JON_S2_L001_R1_001_trimmed.fq.gz.sorted.pileup\"\n",
    "dataname=\"/home/lorenzo/cereseto lab/Aiello_EvolvR_Jan2020/03_variant_calling/\"+samplename\n",
    "original_pileup=pd.read_csv(dataname, sep=\"\\t\", header=0)\n",
    "print(original_pileup.columns) #chr, pos, ref , A, C , G , T, af , cov"
   ]
  },
  {
   "cell_type": "code",
   "execution_count": 63,
   "metadata": {},
   "outputs": [
    {
     "name": "stdout",
     "output_type": "stream",
     "text": [
      "          chr  pos ref         A         C         G         T        af  \\\n",
      "196  Ref_201   197   C  0.000662  0.999289  0.000004  0.000045  0.000711   \n",
      "197  Ref_201   198   T  0.001487  0.001153  0.000906  0.996454  0.003546   \n",
      "198  Ref_201   199   A  0.997260  0.001662  0.000922  0.000156  0.002740   \n",
      "199  Ref_201   200   C  0.000210  0.999735  0.000000  0.000055  0.000265   \n",
      "200  Ref_201   201   A  0.881446  0.097108  0.020916  0.000530  0.118554   \n",
      "\n",
      "        cov  \n",
      "196  951520  \n",
      "197  953016  \n",
      "198  951057  \n",
      "199  950546  \n",
      "200   20750  \n"
     ]
    }
   ],
   "source": [
    "#we are interested in values relative to coverage:\n",
    "for letter in [\"A\", \"T\",\"C\",\"G\"]:\n",
    "    original_pileup[letter]=original_pileup[letter]/original_pileup[\"cov\"]\n",
    "print(original_pileup.tail())"
   ]
  },
  {
   "cell_type": "code",
   "execution_count": 64,
   "metadata": {},
   "outputs": [],
   "source": [
    "#index is the 1 based position (position 1 is missing for some reason, ma \n",
    "# fortunatamente non ci interessa)\n",
    "pileup=original_pileup"
   ]
  },
  {
   "cell_type": "code",
   "execution_count": 67,
   "metadata": {},
   "outputs": [
    {
     "name": "stdout",
     "output_type": "stream",
     "text": [
      "          chr  pos ref         A         C         G         T        af  \\\n",
      "190  Ref_201   191   C  0.000150  0.999631  0.000007  0.000212  0.000369   \n",
      "191  Ref_201   192   G  0.000417  0.000015  0.999505  0.000064  0.000495   \n",
      "192  Ref_201   193   G  0.000317  0.000013  0.999627  0.000043  0.000373   \n",
      "193  Ref_201   194   C  0.000120  0.999707  0.000021  0.000152  0.000293   \n",
      "194  Ref_201   195   A  0.999823  0.000065  0.000073  0.000039  0.000177   \n",
      "195  Ref_201   196   A  0.999864  0.000061  0.000055  0.000020  0.000136   \n",
      "196  Ref_201   197   C  0.000662  0.999289  0.000004  0.000045  0.000711   \n",
      "197  Ref_201   198   T  0.001487  0.001153  0.000906  0.996454  0.003546   \n",
      "198  Ref_201   199   A  0.997260  0.001662  0.000922  0.000156  0.002740   \n",
      "199  Ref_201   200   C  0.000210  0.999735  0.000000  0.000055  0.000265   \n",
      "200  Ref_201   201   A  0.881446  0.097108  0.020916  0.000530  0.118554   \n",
      "\n",
      "        cov  is_protein  \n",
      "190  949747        True  \n",
      "191  957450        True  \n",
      "192  955473        True  \n",
      "193  951023        True  \n",
      "194  957017        True  \n",
      "195  957436        True  \n",
      "196  951520        True  \n",
      "197  953016        True  \n",
      "198  951057        True  \n",
      "199  950546        True  \n",
      "200   20750        True  \n",
      "         chr  pos ref         A         C         G         T        af  \\\n",
      "0   Ref_201     1   G  0.000615  0.000041  0.999087  0.000257  0.000913   \n",
      "1   Ref_201     2   C  0.000124  0.999623  0.000156  0.000097  0.000377   \n",
      "2   Ref_201     3   A  0.999489  0.000325  0.000147  0.000039  0.000511   \n",
      "3   Ref_201     4   A  0.999787  0.000117  0.000055  0.000041  0.000213   \n",
      "4   Ref_201     5   G  0.000175  0.001275  0.998246  0.000304  0.001754   \n",
      "5   Ref_201     6   C  0.000202  0.999686  0.000001  0.000111  0.000314   \n",
      "6   Ref_201     7   T  0.000019  0.000149  0.000135  0.999697  0.000303   \n",
      "7   Ref_201     8   G  0.000234  0.000022  0.999350  0.000394  0.000650   \n",
      "8   Ref_201     9   A  0.999691  0.000198  0.000046  0.000066  0.000309   \n",
      "9   Ref_201    10   C  0.000625  0.999254  0.000017  0.000104  0.000746   \n",
      "10  Ref_201    11   C  0.001044  0.998820  0.000003  0.000133  0.001180   \n",
      "\n",
      "       cov  is_protein  \n",
      "0   944885       False  \n",
      "1   975518       False  \n",
      "2   973135       False  \n",
      "3   976617       False  \n",
      "4   972392       False  \n",
      "5   971079       False  \n",
      "6   967712       False  \n",
      "7   974491       False  \n",
      "8   976372       False  \n",
      "9   967273        True  \n",
      "10  962041        True  \n"
     ]
    }
   ],
   "source": [
    "#\n",
    "# se il primer è gcaagctga\n",
    "start=10\n",
    "end=201\n",
    "#add a label to the old data to indicate if this part belongs to CJ or not\n",
    "pileup[\"is_protein\"]= [ True if x>=start and x<= end else False for x in pileup[\"pos\"] ]\n",
    "#pileup[\"pos\"]=pileup[\"pos\"]-start+1\n",
    "#just slice out if needed:\n",
    "#CJ_pileup=pileup[pileup[\"is_protein\"]==True]\n",
    "\n",
    "print(pileup.loc[190:201])\n",
    "print(pileup.head(11))"
   ]
  },
  {
   "cell_type": "code",
   "execution_count": 61,
   "metadata": {},
   "outputs": [
    {
     "name": "stdout",
     "output_type": "stream",
     "text": [
      "Empty DataFrame\n",
      "Columns: [chr, pos, ref, A, C, G, T, af, cov, is_protein]\n",
      "Index: []\n"
     ]
    }
   ],
   "source": [
    "print(pileup[pileup[\"pos\"]==201])\n"
   ]
  },
  {
   "cell_type": "code",
   "execution_count": 68,
   "metadata": {},
   "outputs": [
    {
     "data": {
      "text/html": [
       "<div>\n",
       "<style scoped>\n",
       "    .dataframe tbody tr th:only-of-type {\n",
       "        vertical-align: middle;\n",
       "    }\n",
       "\n",
       "    .dataframe tbody tr th {\n",
       "        vertical-align: top;\n",
       "    }\n",
       "\n",
       "    .dataframe thead th {\n",
       "        text-align: right;\n",
       "    }\n",
       "</style>\n",
       "<table border=\"1\" class=\"dataframe\">\n",
       "  <thead>\n",
       "    <tr style=\"text-align: right;\">\n",
       "      <th></th>\n",
       "      <th>chr</th>\n",
       "      <th>pos</th>\n",
       "      <th>ref</th>\n",
       "      <th>A</th>\n",
       "      <th>C</th>\n",
       "      <th>G</th>\n",
       "      <th>T</th>\n",
       "      <th>af</th>\n",
       "      <th>cov</th>\n",
       "      <th>is_protein</th>\n",
       "      <th>ref_value</th>\n",
       "    </tr>\n",
       "  </thead>\n",
       "  <tbody>\n",
       "    <tr>\n",
       "      <th>196</th>\n",
       "      <td>Ref_201</td>\n",
       "      <td>197</td>\n",
       "      <td>C</td>\n",
       "      <td>0.000662</td>\n",
       "      <td>0.000000</td>\n",
       "      <td>0.000004</td>\n",
       "      <td>0.000045</td>\n",
       "      <td>0.000711</td>\n",
       "      <td>951520</td>\n",
       "      <td>True</td>\n",
       "      <td>0.999289</td>\n",
       "    </tr>\n",
       "    <tr>\n",
       "      <th>197</th>\n",
       "      <td>Ref_201</td>\n",
       "      <td>198</td>\n",
       "      <td>T</td>\n",
       "      <td>0.001487</td>\n",
       "      <td>0.001153</td>\n",
       "      <td>0.000906</td>\n",
       "      <td>0.000000</td>\n",
       "      <td>0.003546</td>\n",
       "      <td>953016</td>\n",
       "      <td>True</td>\n",
       "      <td>0.996454</td>\n",
       "    </tr>\n",
       "    <tr>\n",
       "      <th>198</th>\n",
       "      <td>Ref_201</td>\n",
       "      <td>199</td>\n",
       "      <td>A</td>\n",
       "      <td>0.000000</td>\n",
       "      <td>0.001662</td>\n",
       "      <td>0.000922</td>\n",
       "      <td>0.000156</td>\n",
       "      <td>0.002740</td>\n",
       "      <td>951057</td>\n",
       "      <td>True</td>\n",
       "      <td>0.997260</td>\n",
       "    </tr>\n",
       "    <tr>\n",
       "      <th>199</th>\n",
       "      <td>Ref_201</td>\n",
       "      <td>200</td>\n",
       "      <td>C</td>\n",
       "      <td>0.000210</td>\n",
       "      <td>0.000000</td>\n",
       "      <td>0.000000</td>\n",
       "      <td>0.000055</td>\n",
       "      <td>0.000265</td>\n",
       "      <td>950546</td>\n",
       "      <td>True</td>\n",
       "      <td>0.999735</td>\n",
       "    </tr>\n",
       "    <tr>\n",
       "      <th>200</th>\n",
       "      <td>Ref_201</td>\n",
       "      <td>201</td>\n",
       "      <td>A</td>\n",
       "      <td>0.000000</td>\n",
       "      <td>0.097108</td>\n",
       "      <td>0.020916</td>\n",
       "      <td>0.000530</td>\n",
       "      <td>0.118554</td>\n",
       "      <td>20750</td>\n",
       "      <td>True</td>\n",
       "      <td>0.881446</td>\n",
       "    </tr>\n",
       "  </tbody>\n",
       "</table>\n",
       "</div>"
      ],
      "text/plain": [
       "          chr  pos ref         A         C         G         T        af  \\\n",
       "196  Ref_201   197   C  0.000662  0.000000  0.000004  0.000045  0.000711   \n",
       "197  Ref_201   198   T  0.001487  0.001153  0.000906  0.000000  0.003546   \n",
       "198  Ref_201   199   A  0.000000  0.001662  0.000922  0.000156  0.002740   \n",
       "199  Ref_201   200   C  0.000210  0.000000  0.000000  0.000055  0.000265   \n",
       "200  Ref_201   201   A  0.000000  0.097108  0.020916  0.000530  0.118554   \n",
       "\n",
       "        cov  is_protein  ref_value  \n",
       "196  951520        True   0.999289  \n",
       "197  953016        True   0.996454  \n",
       "198  951057        True   0.997260  \n",
       "199  950546        True   0.999735  \n",
       "200   20750        True   0.881446  "
      ]
     },
     "execution_count": 68,
     "metadata": {},
     "output_type": "execute_result"
    }
   ],
   "source": [
    "#trucchetto per evidenziare il leibel:\n",
    "def valore_ref(row): #1 aggiungi una colonna colla frazione della base reference\n",
    "    letter=row[\"ref\"]\n",
    "    return row[letter]\n",
    "def remove_ref(row):  #2 azzera la base reference\n",
    "    letter=row[\"ref\"]\n",
    "    row[letter]=0.0\n",
    "    return row\n",
    "\n",
    "#CJ_pileup[\"ref_value\"]=CJ_pileup.apply(valore_ref, axis=1)\n",
    "#CJ_pileup=CJ_pileup.apply(remove_ref, axis=1)\n",
    "\n",
    "pileup[\"ref_value\"]=pileup.apply(valore_ref, axis=1)\n",
    "pileup=pileup.apply(remove_ref, axis=1)\n",
    "pileup.tail()"
   ]
  },
  {
   "cell_type": "code",
   "execution_count": 44,
   "metadata": {},
   "outputs": [
    {
     "name": "stderr",
     "output_type": "stream",
     "text": [
      "/home/lorenzo/anaconda3/lib/python3.7/site-packages/ipykernel_launcher.py:4: UserWarning: Boolean Series key will be reindexed to match DataFrame index.\n",
      "  after removing the cwd from sys.path.\n"
     ]
    }
   ],
   "source": [
    "#plot senza distanze vere\n",
    "cutoff=0.1 #allelic fraction cutoff over which to consider a mutation\n",
    "\n",
    "CJ_sliced=pileup[pileup[\"af\"]>=cutoff][pileup[\"is_protein\"]==True] #bo nn se sa che ho fatto ma tanot nn fa piu il grafico qua"
   ]
  },
  {
   "cell_type": "code",
   "execution_count": 46,
   "metadata": {},
   "outputs": [],
   "source": [
    "CJ_pileup=pileup[pileup[\"is_protein\"]==True]"
   ]
  },
  {
   "cell_type": "code",
   "execution_count": 69,
   "metadata": {},
   "outputs": [
    {
     "data": {
      "image/png": "[encoded data removed]",
      "text/plain": [
       "<Figure size 432x288 with 1 Axes>"
      ]
     },
     "metadata": {
      "needs_background": "light"
     },
     "output_type": "display_data"
    }
   ],
   "source": [
    "# plot coverage\n",
    "\n",
    "pileup.plot(x='pos', y='cov',color='gray')\n",
    "plt.savefig(wdir+\"/\"+samplename[:5]+\"_cov.png\")"
   ]
  },
  {
   "cell_type": "code",
   "execution_count": 11,
   "metadata": {},
   "outputs": [
    {
     "name": "stdout",
     "output_type": "stream",
     "text": [
      "median absolute deviation 0.001315022350931908\n"
     ]
    }
   ],
   "source": [
    "print(\"median absolute deviation\", pileup[\"af\"].mad())"
   ]
  },
  {
   "cell_type": "code",
   "execution_count": 20,
   "metadata": {},
   "outputs": [
    {
     "name": "stdout",
     "output_type": "stream",
     "text": [
      "count    201.000000\n",
      "mean       0.001063\n",
      "std        0.008345\n",
      "min        0.000068\n",
      "25%        0.000199\n",
      "50%        0.000293\n",
      "75%        0.000529\n",
      "max        0.118554\n",
      "Name: af, dtype: float64\n",
      "median\t 0.000293\n"
     ]
    },
    {
     "data": {
      "image/png": "[encoded data removed]",
      "text/plain": [
       "<Figure size 432x288 with 1 Axes>"
      ]
     },
     "metadata": {
      "needs_background": "light"
     },
     "output_type": "display_data"
    }
   ],
   "source": [
    "#plot allelic fraction\n",
    "pileup.plot(x='pos', y='af',color='gray')\n",
    "print(pileup[\"af\"].describe())\n",
    "print(\"median\\t\", pileup[\"af\"].median())\n",
    "plt.savefig(wdir+\"/\"+samplename[:5]+\"_af.png\")"
   ]
  },
  {
   "cell_type": "code",
   "execution_count": 22,
   "metadata": {},
   "outputs": [],
   "source": [
    "from plotnine import *"
   ]
  },
  {
   "cell_type": "code",
   "execution_count": 23,
   "metadata": {},
   "outputs": [],
   "source": [
    "def mycolorpalette(color):\n",
    "    if color:\n",
    "        return \"cyan\"\n",
    "    return \"gray\""
   ]
  },
  {
   "cell_type": "code",
   "execution_count": 70,
   "metadata": {},
   "outputs": [
    {
     "data": {
      "image/png": "[encoded data removed]",
      "text/plain": [
       "<Figure size 640x480 with 1 Axes>"
      ]
     },
     "metadata": {},
     "output_type": "display_data"
    },
    {
     "name": "stdout",
     "output_type": "stream",
     "text": [
      "<ggplot: (8775426851094)>\n"
     ]
    }
   ],
   "source": [
    "plot=(ggplot(pileup)         # defining what data to use\n",
    " + aes(x='pos', y='af') #color=\"is_protein\")      # defining what variable to use\n",
    " + geom_col()# defining the type of plot to use\n",
    "# +scale_color_manual(values={False:\"grey\", True:\"cyan\"})\n",
    ")\n",
    "print(plot)"
   ]
  },
  {
   "cell_type": "code",
   "execution_count": 31,
   "metadata": {},
   "outputs": [
    {
     "name": "stderr",
     "output_type": "stream",
     "text": [
      "/home/lorenzo/anaconda3/lib/python3.7/site-packages/plotnine/ggplot.py:729: PlotnineWarning: Saving 6.4 x 4.8 in image.\n",
      "  from_inches(height, units), units), PlotnineWarning)\n",
      "/home/lorenzo/anaconda3/lib/python3.7/site-packages/plotnine/ggplot.py:730: PlotnineWarning: Filename: /home/lorenzo/cereseto lab/Aiello_EvolvR_Jan2020//L-JONaf_v2.png\n",
      "  warn('Filename: {}'.format(filename), PlotnineWarning)\n"
     ]
    }
   ],
   "source": [
    "ggsave(plot+theme_bw(), filename=wdir+\"/\"+samplename[:5]+\"af_v2.png\")\n"
   ]
  },
  {
   "cell_type": "code",
   "execution_count": 76,
   "metadata": {},
   "outputs": [
    {
     "data": {
      "text/html": [
       "<div>\n",
       "<style scoped>\n",
       "    .dataframe tbody tr th:only-of-type {\n",
       "        vertical-align: middle;\n",
       "    }\n",
       "\n",
       "    .dataframe tbody tr th {\n",
       "        vertical-align: top;\n",
       "    }\n",
       "\n",
       "    .dataframe thead th {\n",
       "        text-align: right;\n",
       "    }\n",
       "</style>\n",
       "<table border=\"1\" class=\"dataframe\">\n",
       "  <thead>\n",
       "    <tr style=\"text-align: right;\">\n",
       "      <th></th>\n",
       "      <th>chr</th>\n",
       "      <th>pos</th>\n",
       "      <th>ref</th>\n",
       "      <th>A</th>\n",
       "      <th>C</th>\n",
       "      <th>G</th>\n",
       "      <th>T</th>\n",
       "      <th>af</th>\n",
       "      <th>cov</th>\n",
       "      <th>is_protein</th>\n",
       "      <th>ref_value</th>\n",
       "    </tr>\n",
       "  </thead>\n",
       "  <tbody>\n",
       "    <tr>\n",
       "      <th>0</th>\n",
       "      <td>Ref_201</td>\n",
       "      <td>1</td>\n",
       "      <td>G</td>\n",
       "      <td>0.000615</td>\n",
       "      <td>0.000041</td>\n",
       "      <td>0.000000</td>\n",
       "      <td>0.000257</td>\n",
       "      <td>0.000913</td>\n",
       "      <td>944885</td>\n",
       "      <td>False</td>\n",
       "      <td>0.999087</td>\n",
       "    </tr>\n",
       "    <tr>\n",
       "      <th>1</th>\n",
       "      <td>Ref_201</td>\n",
       "      <td>2</td>\n",
       "      <td>C</td>\n",
       "      <td>0.000124</td>\n",
       "      <td>0.000000</td>\n",
       "      <td>0.000156</td>\n",
       "      <td>0.000097</td>\n",
       "      <td>0.000377</td>\n",
       "      <td>975518</td>\n",
       "      <td>False</td>\n",
       "      <td>0.999623</td>\n",
       "    </tr>\n",
       "    <tr>\n",
       "      <th>2</th>\n",
       "      <td>Ref_201</td>\n",
       "      <td>3</td>\n",
       "      <td>A</td>\n",
       "      <td>0.000000</td>\n",
       "      <td>0.000325</td>\n",
       "      <td>0.000147</td>\n",
       "      <td>0.000039</td>\n",
       "      <td>0.000511</td>\n",
       "      <td>973135</td>\n",
       "      <td>False</td>\n",
       "      <td>0.999489</td>\n",
       "    </tr>\n",
       "    <tr>\n",
       "      <th>3</th>\n",
       "      <td>Ref_201</td>\n",
       "      <td>4</td>\n",
       "      <td>A</td>\n",
       "      <td>0.000000</td>\n",
       "      <td>0.000117</td>\n",
       "      <td>0.000055</td>\n",
       "      <td>0.000041</td>\n",
       "      <td>0.000213</td>\n",
       "      <td>976617</td>\n",
       "      <td>False</td>\n",
       "      <td>0.999787</td>\n",
       "    </tr>\n",
       "    <tr>\n",
       "      <th>4</th>\n",
       "      <td>Ref_201</td>\n",
       "      <td>5</td>\n",
       "      <td>G</td>\n",
       "      <td>0.000175</td>\n",
       "      <td>0.001275</td>\n",
       "      <td>0.000000</td>\n",
       "      <td>0.000304</td>\n",
       "      <td>0.001754</td>\n",
       "      <td>972392</td>\n",
       "      <td>False</td>\n",
       "      <td>0.998246</td>\n",
       "    </tr>\n",
       "  </tbody>\n",
       "</table>\n",
       "</div>"
      ],
      "text/plain": [
       "        chr  pos ref         A         C         G         T        af  \\\n",
       "0  Ref_201     1   G  0.000615  0.000041  0.000000  0.000257  0.000913   \n",
       "1  Ref_201     2   C  0.000124  0.000000  0.000156  0.000097  0.000377   \n",
       "2  Ref_201     3   A  0.000000  0.000325  0.000147  0.000039  0.000511   \n",
       "3  Ref_201     4   A  0.000000  0.000117  0.000055  0.000041  0.000213   \n",
       "4  Ref_201     5   G  0.000175  0.001275  0.000000  0.000304  0.001754   \n",
       "\n",
       "      cov  is_protein  ref_value  \n",
       "0  944885       False   0.999087  \n",
       "1  975518       False   0.999623  \n",
       "2  973135       False   0.999489  \n",
       "3  976617       False   0.999787  \n",
       "4  972392       False   0.998246  "
      ]
     },
     "execution_count": 76,
     "metadata": {},
     "output_type": "execute_result"
    }
   ],
   "source": [
    "pileup.head()"
   ]
  },
  {
   "cell_type": "code",
   "execution_count": 77,
   "metadata": {},
   "outputs": [],
   "source": [
    "# create a dataset with 4 more rows per column, and one more column called 'color_map' (which can be A,C,T,G,ref,plasmid), so every column tells\n",
    "# what the value is, and the rows A,C,T,G,ref are just 1 row: value\n",
    "\n",
    "def reshape_dataframe(pileup):\n",
    "    reshaped_pileup=pd.DataFrame(columns=[\"pos\",\"ref\",\"value\",\"color_map\"])\n",
    "#    reshaped_ind=0\n",
    "    for ind, position in pileup.iterrows():\n",
    " #       is_protein=position[\"is_protein\"]\n",
    "        pos=position[\"pos\"]\n",
    "        ref=position[\"ref\"]\n",
    "        newrow={\"pos\":pos,\"ref\":ref}\n",
    "   #     print(\"sono alla posizione: \", pos)\n",
    "        for cosetta in [\"A\",\"T\",\"G\",\"C\"]:\n",
    "   #         print(\"lettera\"+cosetta+\"\\n\")\n",
    "            temp_value=position[cosetta]\n",
    "            newrow[\"value\"]=temp_value\n",
    "            newrow[\"color_map\"]=cosetta\n",
    "            reshaped_pileup=reshaped_pileup.append(newrow,ignore_index=True)\n",
    "  #          if not is_protein:\n",
    "   #             reshaped_pileup.loc[reshaped_ind][\"color_map\"]=\"plasmid\"\n",
    " #           reshaped_ind+=1\n",
    "  #  reshaped.dropna(how=\"all\", inplace=True) #drop rows completely blank (che ho messo un index troppo lungo)\n",
    "    reshaped_pileup.fillna(value=0, inplace=True)  #sostituisci nan con 0\n",
    "    return reshaped_pileup\n",
    "\n"
   ]
  },
  {
   "cell_type": "code",
   "execution_count": 78,
   "metadata": {},
   "outputs": [],
   "source": [
    "reshaped_pileup=reshape_dataframe(pileup)"
   ]
  },
  {
   "cell_type": "code",
   "execution_count": 79,
   "metadata": {},
   "outputs": [
    {
     "data": {
      "text/html": [
       "<div>\n",
       "<style scoped>\n",
       "    .dataframe tbody tr th:only-of-type {\n",
       "        vertical-align: middle;\n",
       "    }\n",
       "\n",
       "    .dataframe tbody tr th {\n",
       "        vertical-align: top;\n",
       "    }\n",
       "\n",
       "    .dataframe thead th {\n",
       "        text-align: right;\n",
       "    }\n",
       "</style>\n",
       "<table border=\"1\" class=\"dataframe\">\n",
       "  <thead>\n",
       "    <tr style=\"text-align: right;\">\n",
       "      <th></th>\n",
       "      <th>pos</th>\n",
       "      <th>ref</th>\n",
       "      <th>value</th>\n",
       "      <th>color_map</th>\n",
       "    </tr>\n",
       "  </thead>\n",
       "  <tbody>\n",
       "    <tr>\n",
       "      <th>0</th>\n",
       "      <td>1</td>\n",
       "      <td>G</td>\n",
       "      <td>0.000615</td>\n",
       "      <td>A</td>\n",
       "    </tr>\n",
       "    <tr>\n",
       "      <th>1</th>\n",
       "      <td>1</td>\n",
       "      <td>G</td>\n",
       "      <td>0.000257</td>\n",
       "      <td>T</td>\n",
       "    </tr>\n",
       "    <tr>\n",
       "      <th>2</th>\n",
       "      <td>1</td>\n",
       "      <td>G</td>\n",
       "      <td>0.000000</td>\n",
       "      <td>G</td>\n",
       "    </tr>\n",
       "    <tr>\n",
       "      <th>3</th>\n",
       "      <td>1</td>\n",
       "      <td>G</td>\n",
       "      <td>0.000041</td>\n",
       "      <td>C</td>\n",
       "    </tr>\n",
       "    <tr>\n",
       "      <th>4</th>\n",
       "      <td>2</td>\n",
       "      <td>C</td>\n",
       "      <td>0.000124</td>\n",
       "      <td>A</td>\n",
       "    </tr>\n",
       "  </tbody>\n",
       "</table>\n",
       "</div>"
      ],
      "text/plain": [
       "   pos ref     value color_map\n",
       "0    1   G  0.000615         A\n",
       "1    1   G  0.000257         T\n",
       "2    1   G  0.000000         G\n",
       "3    1   G  0.000041         C\n",
       "4    2   C  0.000124         A"
      ]
     },
     "execution_count": 79,
     "metadata": {},
     "output_type": "execute_result"
    }
   ],
   "source": [
    "reshaped_pileup.head()"
   ]
  },
  {
   "cell_type": "code",
   "execution_count": 80,
   "metadata": {},
   "outputs": [],
   "source": [
    "reshaped_pileup_noref=reshaped_pileup[reshaped_pileup[\"color_map\"]!=reshaped_pileup[\"ref\"]]"
   ]
  },
  {
   "cell_type": "code",
   "execution_count": 81,
   "metadata": {},
   "outputs": [
    {
     "data": {
      "text/html": [
       "<div>\n",
       "<style scoped>\n",
       "    .dataframe tbody tr th:only-of-type {\n",
       "        vertical-align: middle;\n",
       "    }\n",
       "\n",
       "    .dataframe tbody tr th {\n",
       "        vertical-align: top;\n",
       "    }\n",
       "\n",
       "    .dataframe thead th {\n",
       "        text-align: right;\n",
       "    }\n",
       "</style>\n",
       "<table border=\"1\" class=\"dataframe\">\n",
       "  <thead>\n",
       "    <tr style=\"text-align: right;\">\n",
       "      <th></th>\n",
       "      <th>pos</th>\n",
       "      <th>ref</th>\n",
       "      <th>value</th>\n",
       "      <th>color_map</th>\n",
       "    </tr>\n",
       "  </thead>\n",
       "  <tbody>\n",
       "    <tr>\n",
       "      <th>0</th>\n",
       "      <td>1</td>\n",
       "      <td>G</td>\n",
       "      <td>0.000615</td>\n",
       "      <td>A</td>\n",
       "    </tr>\n",
       "    <tr>\n",
       "      <th>1</th>\n",
       "      <td>1</td>\n",
       "      <td>G</td>\n",
       "      <td>0.000257</td>\n",
       "      <td>T</td>\n",
       "    </tr>\n",
       "    <tr>\n",
       "      <th>3</th>\n",
       "      <td>1</td>\n",
       "      <td>G</td>\n",
       "      <td>0.000041</td>\n",
       "      <td>C</td>\n",
       "    </tr>\n",
       "    <tr>\n",
       "      <th>4</th>\n",
       "      <td>2</td>\n",
       "      <td>C</td>\n",
       "      <td>0.000124</td>\n",
       "      <td>A</td>\n",
       "    </tr>\n",
       "    <tr>\n",
       "      <th>5</th>\n",
       "      <td>2</td>\n",
       "      <td>C</td>\n",
       "      <td>0.000097</td>\n",
       "      <td>T</td>\n",
       "    </tr>\n",
       "  </tbody>\n",
       "</table>\n",
       "</div>"
      ],
      "text/plain": [
       "   pos ref     value color_map\n",
       "0    1   G  0.000615         A\n",
       "1    1   G  0.000257         T\n",
       "3    1   G  0.000041         C\n",
       "4    2   C  0.000124         A\n",
       "5    2   C  0.000097         T"
      ]
     },
     "execution_count": 81,
     "metadata": {},
     "output_type": "execute_result"
    }
   ],
   "source": [
    "reshaped_pileup_noref.head()"
   ]
  },
  {
   "cell_type": "code",
   "execution_count": 71,
   "metadata": {},
   "outputs": [
    {
     "data": {
      "image/png": "[encoded data removed]",
      "text/plain": [
       "<Figure size 640x480 with 1 Axes>"
      ]
     },
     "metadata": {},
     "output_type": "display_data"
    },
    {
     "name": "stdout",
     "output_type": "stream",
     "text": [
      "<ggplot: (-9223363261427687992)>\n"
     ]
    }
   ],
   "source": [
    "plot=(ggplot(reshaped_pileup_noref)         \n",
    " + aes(x='pos', y='value', fill=\"color_map\")      \n",
    " + geom_bar(position=\"stack\", stat='identity')\n",
    ")\n",
    "print(plot)"
   ]
  },
  {
   "cell_type": "code",
   "execution_count": 47,
   "metadata": {},
   "outputs": [
    {
     "name": "stderr",
     "output_type": "stream",
     "text": [
      "/home/lorenzo/anaconda3/lib/python3.7/site-packages/plotnine/ggplot.py:729: PlotnineWarning: Saving 6.4 x 4.8 in image.\n",
      "  from_inches(height, units), units), PlotnineWarning)\n",
      "/home/lorenzo/anaconda3/lib/python3.7/site-packages/plotnine/ggplot.py:730: PlotnineWarning: Filename: /home/lorenzo/cereseto lab/Aiello_EvolvR_Jan2020//L-JON_pbaf.pdf\n",
      "  warn('Filename: {}'.format(filename), PlotnineWarning)\n"
     ]
    }
   ],
   "source": [
    "ggsave(plot+theme_bw(),filename=wdir+\"/\"+samplename[:5]+\"_pbaf.pdf\")"
   ]
  },
  {
   "cell_type": "markdown",
   "metadata": {},
   "source": [
    "# Da fa domani\n",
    "modifica queste due funzioncine qui to take into account il reference che abbiamo\n",
    "magari prima guarda anche visualmente il coverage e le AF dei 4 samples"
   ]
  },
  {
   "cell_type": "code",
   "execution_count": 82,
   "metadata": {},
   "outputs": [],
   "source": [
    "def call_variant(position, median_af, mad_af):\n",
    "    #takes as input a dataset with the af of each base, and the reference\n",
    "    ref=position[\"ref\"]\n",
    "    k=1.4826\n",
    "    af_of_variant={}\n",
    "    for letter in [\"A\", \"C\",\"G\",\"T\"]:\n",
    "        if letter != ref:\n",
    "            temp_af=position[letter]\n",
    "            if temp_af > median_af+mad_af*k:\n",
    "                af_of_variant[letter]=temp_af  \n",
    "    return af_of_variant\n",
    "\n",
    "def call_variant_with_cutoff(position, cutoff):\n",
    "    ref=position[\"ref\"]\n",
    "    k=1.4826\n",
    "    af_of_variant={}\n",
    "    for letter in [\"A\", \"C\",\"G\",\"T\"]:\n",
    "        if letter != ref:\n",
    "            temp_af=position[\"af\"]\n",
    "            if temp_af >= cutoff:\n",
    "                af_of_variant[letter]=position[letter]  \n",
    "    return af_of_variant"
   ]
  },
  {
   "cell_type": "code",
   "execution_count": 90,
   "metadata": {},
   "outputs": [
    {
     "name": "stdout",
     "output_type": "stream",
     "text": [
      "              A          C          G     T    pos ref\n",
      "131  0.00234984       None       None  None  141.0   G\n",
      "191        None  0.0971084  0.0209157  None  201.0   A\n"
     ]
    }
   ],
   "source": [
    "median_af=pileup[\"af\"].median()\n",
    "mad_af=pileup[\"af\"].mad()\n",
    "called_variants=pd.DataFrame()\n",
    "for ind, position in pileup.iterrows():\n",
    "    pos=int(position[\"pos\"])\n",
    "    ref=position[\"ref\"]\n",
    "    new_row={\"pos\":pos,\"ref\":ref, \"A\":None ,\"C\":None,\"T\":None,\"G\":None}\n",
    "    if position[\"is_protein\"]:\n",
    "        variants=call_variant(position,median_af,mad_af)\n",
    "        new_row.update(variants)\n",
    "        called_variants=called_variants.append(new_row, ignore_index=True)\n",
    "called_variants.dropna(subset=[\"A\",\"C\",\"G\",\"T\"], how=\"all\", inplace=True)\n",
    "print(called_variants.head())"
   ]
  },
  {
   "cell_type": "code",
   "execution_count": 91,
   "metadata": {},
   "outputs": [
    {
     "data": {
      "text/html": [
       "<div>\n",
       "<style scoped>\n",
       "    .dataframe tbody tr th:only-of-type {\n",
       "        vertical-align: middle;\n",
       "    }\n",
       "\n",
       "    .dataframe tbody tr th {\n",
       "        vertical-align: top;\n",
       "    }\n",
       "\n",
       "    .dataframe thead th {\n",
       "        text-align: right;\n",
       "    }\n",
       "</style>\n",
       "<table border=\"1\" class=\"dataframe\">\n",
       "  <thead>\n",
       "    <tr style=\"text-align: right;\">\n",
       "      <th></th>\n",
       "      <th>A</th>\n",
       "      <th>C</th>\n",
       "      <th>G</th>\n",
       "      <th>T</th>\n",
       "      <th>pos</th>\n",
       "      <th>ref</th>\n",
       "    </tr>\n",
       "  </thead>\n",
       "  <tbody>\n",
       "    <tr>\n",
       "      <th>131</th>\n",
       "      <td>0.00234984</td>\n",
       "      <td>None</td>\n",
       "      <td>None</td>\n",
       "      <td>None</td>\n",
       "      <td>141.0</td>\n",
       "      <td>G</td>\n",
       "    </tr>\n",
       "    <tr>\n",
       "      <th>191</th>\n",
       "      <td>None</td>\n",
       "      <td>0.0971084</td>\n",
       "      <td>0.0209157</td>\n",
       "      <td>None</td>\n",
       "      <td>201.0</td>\n",
       "      <td>A</td>\n",
       "    </tr>\n",
       "  </tbody>\n",
       "</table>\n",
       "</div>"
      ],
      "text/plain": [
       "              A          C          G     T    pos ref\n",
       "131  0.00234984       None       None  None  141.0   G\n",
       "191        None  0.0971084  0.0209157  None  201.0   A"
      ]
     },
     "execution_count": 91,
     "metadata": {},
     "output_type": "execute_result"
    }
   ],
   "source": [
    "called_variants"
   ]
  },
  {
   "cell_type": "code",
   "execution_count": 92,
   "metadata": {},
   "outputs": [
    {
     "data": {
      "text/plain": [
       "(2, 6)"
      ]
     },
     "execution_count": 92,
     "metadata": {},
     "output_type": "execute_result"
    }
   ],
   "source": [
    "called_variants.shape"
   ]
  },
  {
   "cell_type": "code",
   "execution_count": 356,
   "metadata": {},
   "outputs": [
    {
     "name": "stdout",
     "output_type": "stream",
     "text": [
      "       pos ref      C      G      T      A\n",
      "359  360.0   A  0.002  0.001  0.104    NaN\n",
      "701  702.0   G  0.001    NaN  0.099  0.002\n",
      "721  722.0   T  0.315  0.001    NaN  0.001\n",
      "750  751.0   G  0.001    NaN  0.003  0.106\n",
      "803  804.0   T  0.002  0.001    NaN  0.358\n"
     ]
    }
   ],
   "source": [
    "cutoff_called_variants=pd.DataFrame()\n",
    "for ind, position in pileup.iterrows():\n",
    "    pos=int(position[\"pos\"])\n",
    "    ref=position[\"ref\"]\n",
    "    new_row={\"pos\":pos,\"ref\":ref}\n",
    "    if position[\"is_protein\"]:\n",
    "        variants=call_variant_with_cutoff(position,0.1)\n",
    "        new_row.update(variants)\n",
    "        cutoff_called_variants=cutoff_called_variants.append(new_row, ignore_index=True)\n",
    "cutoff_called_variants.dropna(subset=[\"A\",\"C\",\"G\",\"T\"],how=\"all\", inplace=True)\n",
    "print(cutoff_called_variants.head())"
   ]
  },
  {
   "cell_type": "code",
   "execution_count": 359,
   "metadata": {},
   "outputs": [
    {
     "name": "stdout",
     "output_type": "stream",
     "text": [
      "(25, 6)\n"
     ]
    }
   ],
   "source": [
    "print(cutoff_called_variants.shape)"
   ]
  },
  {
   "cell_type": "code",
   "execution_count": 63,
   "metadata": {},
   "outputs": [
    {
     "name": "stdout",
     "output_type": "stream",
     "text": [
      "(432, 4)\n",
      "    pos ref  value color_map\n",
      "0   5.0   G  0.019         A\n",
      "1   5.0   G  0.000         T\n",
      "2   5.0   G  0.000         G\n",
      "3   5.0   G  0.000         C\n",
      "4  11.0   C  0.026         A\n"
     ]
    }
   ],
   "source": [
    "reshaped=reshape_dataframe(called_variants)\n",
    "print(reshaped.shape)\n",
    "print(reshaped.head())\n"
   ]
  },
  {
   "cell_type": "code",
   "execution_count": 67,
   "metadata": {},
   "outputs": [
    {
     "name": "stdout",
     "output_type": "stream",
     "text": [
      "plotting\n"
     ]
    },
    {
     "data": {
      "image/png": "[encoded data removed]",
      "text/plain": [
       "<Figure size 640x480 with 1 Axes>"
      ]
     },
     "metadata": {},
     "output_type": "display_data"
    },
    {
     "name": "stdout",
     "output_type": "stream",
     "text": [
      "<ggplot: (-9223363305252941806)>\n"
     ]
    }
   ],
   "source": [
    "\n",
    "print(\"plotting\")\n",
    "plot=(ggplot(reshaped)        \n",
    " + aes(x='pos', y='value', fill=\"color_map\")      \n",
    " +geom_bar(position=\"stack\",stat=\"identity\")\n",
    " +scale_fill_manual(values={\"T\":\"#786de9\", \"A\":\"#ecff82\",\"C\":\"#ff4d73\", \"G\":\"#90d575\"})\n",
    " #+scale_x_categorical()\n",
    ")\n",
    "print(plot+theme_bw())\n",
    "#color (in eas è il colore dell'outline), fill il colore dell'interno della barra"
   ]
  },
  {
   "cell_type": "code",
   "execution_count": 62,
   "metadata": {
    "scrolled": true
   },
   "outputs": [
    {
     "name": "stderr",
     "output_type": "stream",
     "text": [
      "/home/lorenzo/anaconda3/lib/python3.7/site-packages/plotnine/ggplot.py:729: PlotnineWarning: Saving 60 x 12 in image.\n",
      "  from_inches(height, units), units), PlotnineWarning)\n",
      "/home/lorenzo/anaconda3/lib/python3.7/site-packages/plotnine/ggplot.py:730: PlotnineWarning: Filename: imgs/af_after_callingS1_dedup.png\n",
      "  warn('Filename: {}'.format(filename), PlotnineWarning)\n"
     ]
    }
   ],
   "source": [
    "#saving\n",
    "ggsave(plot+coord_cartesian(ylim=[0,0.6])+theme_bw(), filename=\"imgs/af_after_calling\"+samplename+\".png\", width=60, height=2*6, limitsize=False)\n"
   ]
  },
  {
   "cell_type": "code",
   "execution_count": 82,
   "metadata": {},
   "outputs": [],
   "source": []
  },
  {
   "cell_type": "code",
   "execution_count": 95,
   "metadata": {},
   "outputs": [
    {
     "data": {
      "image/png": "[encoded data removed]",
      "text/plain": [
       "<Figure size 4320x864 with 1 Axes>"
      ]
     },
     "metadata": {
      "needs_background": "light"
     },
     "output_type": "display_data"
    }
   ],
   "source": [
    "#use matplotlib x plottare solo le variantine\n",
    "\n",
    "reshaped_formatplotlib=reshaped[reshaped[\"value\"]!=0.000]\n",
    "color_of={\"T\":\"#786de9\", \"A\":\"#ecff82\",\"C\":\"#ff4d73\", \"G\":\"#90d575\"}\n",
    "\n",
    "\n",
    "reshaped_formatplotlib.plot(kind=\"bar\", x=\"pos\", y=\"value\", color=[color_of[ref] for ref in reshaped_formatplotlib[\"ref\"]], figsize=(60,12))\n",
    "plt.savefig(\"imgs/prv.png\")"
   ]
  }
 ],
 "metadata": {
  "kernelspec": {
   "display_name": "Python 3",
   "language": "python",
   "name": "python3"
  },
  "language_info": {
   "codemirror_mode": {
    "name": "ipython",
    "version": 3
   },
   "file_extension": ".py",
   "mimetype": "text/x-python",
   "name": "python",
   "nbconvert_exporter": "python",
   "pygments_lexer": "ipython3",
   "version": "3.7.3"
  }
 },
 "nbformat": 4,
 "nbformat_minor": 2
}
